{
  "nbformat": 4,
  "nbformat_minor": 0,
  "metadata": {
    "colab": {
      "provenance": [],
      "authorship_tag": "ABX9TyP5QC8dUBxodsgRbZjF+nv4",
      "include_colab_link": true
    },
    "kernelspec": {
      "name": "python3",
      "display_name": "Python 3"
    },
    "language_info": {
      "name": "python"
    }
  },
  "cells": [
    {
      "cell_type": "markdown",
      "metadata": {
        "id": "view-in-github",
        "colab_type": "text"
      },
      "source": [
        "<a href=\"https://colab.research.google.com/github/Samarth-Hiremath1/CancerClassification-/blob/main/Cancer_Classification_Model.ipynb\" target=\"_parent\"><img src=\"https://colab.research.google.com/assets/colab-badge.svg\" alt=\"Open In Colab\"/></a>"
      ]
    },
    {
      "cell_type": "markdown",
      "source": [
        "Cancer Classification using Neural Networks\n",
        "Samarth Hiremath"
      ],
      "metadata": {
        "id": "9TAwMny1us5H"
      }
    },
    {
      "cell_type": "code",
      "execution_count": 1,
      "metadata": {
        "id": "rYLtic1zuQPb"
      },
      "outputs": [],
      "source": [
        "import numpy as np                  #for numerical calculations\n",
        "import pandas as pd                 #for creating/manipulating data and data structures\n",
        "import matplotlib.pyplot as plt     #for graphs and visualization\n",
        "from sklearn.datasets import fetch_california_housing             #for ML model training\n",
        "from sklearn.model_selection import train_test_split\n",
        "from sklearn.datasets import load_iris\n"
      ]
    }
  ]
}